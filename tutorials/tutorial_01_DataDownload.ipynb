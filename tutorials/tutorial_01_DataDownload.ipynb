{
 "cells": [
  {
   "cell_type": "markdown",
   "id": "0de04760",
   "metadata": {},
   "source": [
    "# Tutorial 1 - Download the GPM products"
   ]
  },
  {
   "cell_type": "markdown",
   "id": "f00dea2b",
   "metadata": {},
   "source": [
    "In this tutorial you will learn how to download a GPM product.\n",
    "\n",
    "First you need to have installed correctly the [gpm_api](https://github.com/ghiggi/gpm_api) package."
   ]
  },
  {
   "cell_type": "markdown",
   "id": "0787152e",
   "metadata": {},
   "source": [
    "To test the correct installation of gpm_api, let's import the package."
   ]
  },
  {
   "cell_type": "code",
   "execution_count": 16,
   "id": "bf9ac142",
   "metadata": {},
   "outputs": [],
   "source": [
    "import gpm_api"
   ]
  },
  {
   "cell_type": "markdown",
   "id": "c4ebf5f7",
   "metadata": {},
   "source": [
    "However, before starting using GPM-API, we highly suggest to save into a configuration file:\n",
    "- your credentials to access the NASA Precipitation Processing System (PPS) servers\n",
    "- the directory on the local disk where to save the GPM datasets of interest.\n",
    "\n",
    "To facilitate the creation of the configuration file, you can run the following script:"
   ]
  },
  {
   "cell_type": "code",
   "execution_count": null,
   "id": "7e2a1cf3",
   "metadata": {},
   "outputs": [],
   "source": [
    "import gpm_api\n",
    "\n",
    "username = \"<your PPS username>\" # likely your mail\n",
    "password = \"<your PPS password>\" # likely your mail\n",
    "gpm_base_dir = \"<path/to/directory/GPM\"  # path to the directory where to download the data\n",
    "gpm_api.define_configs(username_pps=username,\n",
    "                       password_pps=password,\n",
    "                       gpm_base_dir=gpm_base_dir)\n",
    "\n",
    "# You can check that the config file has been correctly created with:\n",
    "configs = gpm_api.read_configs()\n",
    "print(configs)"
   ]
  },
  {
   "cell_type": "markdown",
   "id": "71b7b0a1",
   "metadata": {},
   "source": [
    "Now let's have a look at the available GPM research products."
   ]
  },
  {
   "cell_type": "code",
   "execution_count": 17,
   "id": "7e35ed2f",
   "metadata": {},
   "outputs": [
    {
     "data": {
      "text/plain": [
       "['1B-PR',\n",
       " '1B-Ka',\n",
       " '1B-Ku',\n",
       " '2A-PR',\n",
       " '2A-DPR',\n",
       " '2A-Ka',\n",
       " '2A-Ku',\n",
       " '2A-ENV-PR',\n",
       " '2A-ENV-DPR',\n",
       " '2A-ENV-Ka',\n",
       " '2A-ENV-Ku',\n",
       " '2A-GPM-SLH',\n",
       " '2A-TRMM-SLH',\n",
       " '1A-TMI',\n",
       " '1A-GMI',\n",
       " '1B-TMI',\n",
       " '1B-GMI',\n",
       " '1C-TMI',\n",
       " '1C-GMI',\n",
       " '1C-SSMI-F08',\n",
       " '1C-SSMI-F10',\n",
       " '1C-SSMI-F11',\n",
       " '1C-SSMI-F13',\n",
       " '1C-SSMI-F14',\n",
       " '1C-SSMI-F15',\n",
       " '1C-SSMIS-F16',\n",
       " '1C-SSMIS-F17',\n",
       " '1C-SSMIS-F18',\n",
       " '1C-SSMIS-F19',\n",
       " '1C-AMSR2-GCOMW1',\n",
       " '1C-AMSRE-AQUA',\n",
       " '1C-AMSUB-NOAA15',\n",
       " '1C-AMSUB-NOAA16',\n",
       " '1C-AMSUB-NOAA17',\n",
       " '1C-SAPHIR-MT1',\n",
       " '1C-MHS-METOPA',\n",
       " '1C-MHS-METOPB',\n",
       " '1C-MHS-METOPC',\n",
       " '1C-MHS-NOAA18',\n",
       " '1C-MHS-NOAA19',\n",
       " '1C-ATMS-NOAA20',\n",
       " '1C-ATMS-NPP',\n",
       " '2A-GMI',\n",
       " '2A-TMI',\n",
       " '2A-SSMI-F08',\n",
       " '2A-SSMI-F10',\n",
       " '2A-SSMI-F11',\n",
       " '2A-SSMI-F13',\n",
       " '2A-SSMI-F14',\n",
       " '2A-SSMI-F15',\n",
       " '2A-SSMIS-F16',\n",
       " '2A-SSMIS-F17',\n",
       " '2A-SSMIS-F18',\n",
       " '2A-SSMIS-F19',\n",
       " '2A-AMSR2-GCOMW1',\n",
       " '2A-AMSRE-AQUA',\n",
       " '2A-AMSUB-NOAA15',\n",
       " '2A-AMSUB-NOAA16',\n",
       " '2A-AMSUB-NOAA17',\n",
       " '2A-MHS-METOPA',\n",
       " '2A-MHS-METOPB',\n",
       " '2A-MHS-METOPC',\n",
       " '2A-MHS-NOAA18',\n",
       " '2A-MHS-NOAA19',\n",
       " '2A-ATMS-NOAA20',\n",
       " '2A-ATMS-NPP',\n",
       " '2A-SAPHIR-MT1-CLIM',\n",
       " '2A-SAPHIR-MT1',\n",
       " '2B-GPM-CORRA',\n",
       " '2B-TRMM-CORRA',\n",
       " '2B-GPM-CSH',\n",
       " '2B-TRMM-CSH',\n",
       " 'IMERG-FR']"
      ]
     },
     "execution_count": 17,
     "metadata": {},
     "output_type": "execute_result"
    }
   ],
   "source": [
    "gpm_api.available_products(product_type=\"RS\")  # research products"
   ]
  },
  {
   "cell_type": "markdown",
   "id": "5d19b448",
   "metadata": {},
   "source": [
    "Note that you If are interested for example in the IMERG Early/Late Run products, you must look for a near-real-time ('NRT') GPM products !\n",
    "So let's have a look at the available GPM NRT products."
   ]
  },
  {
   "cell_type": "code",
   "execution_count": 18,
   "id": "13aefb80",
   "metadata": {},
   "outputs": [
    {
     "data": {
      "text/plain": [
       "['2A-DPR',\n",
       " '2A-Ka',\n",
       " '2A-Ku',\n",
       " '1B-GMI',\n",
       " '1C-GMI',\n",
       " '1C-SSMIS-F16',\n",
       " '1C-SSMIS-F17',\n",
       " '1C-SSMIS-F18',\n",
       " '1C-AMSR2-GCOMW1',\n",
       " '1C-SAPHIR-MT1',\n",
       " '1C-MHS-METOPB',\n",
       " '1C-MHS-METOPC',\n",
       " '1C-MHS-NOAA19',\n",
       " '1C-ATMS-NOAA20',\n",
       " '1C-ATMS-NPP',\n",
       " '2A-GMI',\n",
       " '2A-SSMIS-F16',\n",
       " '2A-SSMIS-F17',\n",
       " '2A-SSMIS-F18',\n",
       " '2A-AMSR2-GCOMW1',\n",
       " '2A-MHS-METOPB',\n",
       " '2A-MHS-METOPC',\n",
       " '2A-MHS-NOAA19',\n",
       " '2A-ATMS-NOAA20',\n",
       " '2A-ATMS-NPP',\n",
       " '2A-SAPHIR-MT1',\n",
       " '2B-GPM-CORRA',\n",
       " 'IMERG-ER',\n",
       " 'IMERG-LR']"
      ]
     },
     "execution_count": 18,
     "metadata": {},
     "output_type": "execute_result"
    }
   ],
   "source": [
    "gpm_api.available_products(product_type=\"NRT\") # near-real-time products"
   ]
  },
  {
   "cell_type": "markdown",
   "id": "0a426268",
   "metadata": {},
   "source": [
    "To download the GPM product of interest, you can simply run the following code:"
   ]
  },
  {
   "cell_type": "code",
   "execution_count": null,
   "id": "09068eae",
   "metadata": {},
   "outputs": [],
   "source": [
    "import gpm_api\n",
    "import datetime\n",
    "\n",
    "# Specify the time period you are interested in \n",
    "start_time = datetime.datetime.strptime(\"2019-07-13 11:00:00\", \"%Y-%m-%d %H:%M:%S\")\n",
    "end_time = datetime.datetime.strptime(\"2019-07-13 13:00:00\", \"%Y-%m-%d %H:%M:%S\")\n",
    "# Specify the product and product type \n",
    "product = \"IMERG-FR\"  # 'IMERG-ER' 'IMERG-LR'\n",
    "product_type = \"RS\"   # \"NRT\"\n",
    "# Specify the version\n",
    "version = 6"
   ]
  },
  {
   "cell_type": "code",
   "execution_count": 19,
   "id": "37fcf084",
   "metadata": {},
   "outputs": [
    {
     "name": "stdout",
     "output_type": "stream",
     "text": [
      "Download of available GPM IMERG-FR product completed.\n"
     ]
    }
   ],
   "source": [
    "# Download the data\n",
    "# - If force_download is True, it overwrite existing file on disk.\n",
    "# - If check_integrity is True, it checks that the downloaded data are not corrupted. \n",
    "\n",
    "gpm_api.download(\n",
    "    product=product,\n",
    "    product_type=product_type,\n",
    "    version=version,\n",
    "    start_time=start_time,\n",
    "    end_time=end_time,\n",
    "    force_download=False,\n",
    "    verbose=True,\n",
    "    progress_bar=True,\n",
    "    check_integrity=False,\n",
    ")"
   ]
  },
  {
   "cell_type": "markdown",
   "id": "6f72482d",
   "metadata": {},
   "source": [
    "Try out the other GPM-API tutorials to discover how to read, manipulate and visualize the data !"
   ]
  }
 ],
 "metadata": {
  "kernelspec": {
   "display_name": "Python 3 (ipykernel)",
   "language": "python",
   "name": "python3"
  },
  "language_info": {
   "codemirror_mode": {
    "name": "ipython",
    "version": 3
   },
   "file_extension": ".py",
   "mimetype": "text/x-python",
   "name": "python",
   "nbconvert_exporter": "python",
   "pygments_lexer": "ipython3",
   "version": "3.10.9"
  }
 },
 "nbformat": 4,
 "nbformat_minor": 5
}
