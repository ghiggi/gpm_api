{
 "cells": [
  {
   "cell_type": "code",
   "execution_count": 1,
   "id": "621f2aa4-f7e6-472f-95a3-ab0ec45d2bec",
   "metadata": {},
   "outputs": [],
   "source": [
    "import datetime\n",
    "import gpm_api\n",
    "import pyvista as pv\n",
    "from gpm_api.visualization.plot_3d import (\n",
    "    create_pyvista_2d_surface, \n",
    "    create_pyvista_3d_volume,\n",
    ")"
   ]
  },
  {
   "cell_type": "markdown",
   "id": "2480b4a9-5cd8-472a-9d2d-85fe8ecbb729",
   "metadata": {},
   "source": [
    "# Load GPM DPR overpass"
   ]
  },
  {
   "cell_type": "code",
   "execution_count": 2,
   "id": "9f8978b3-b937-4891-9175-034e5e7d0532",
   "metadata": {},
   "outputs": [
    {
     "name": "stdout",
     "output_type": "stream",
     "text": [
      "'scan_mode' has not been specified. Default to FS.\n"
     ]
    }
   ],
   "source": [
    "# Specify the time period you are interested in \n",
    "start_time = datetime.datetime.strptime(\"2020-07-05 02:00:00\", \"%Y-%m-%d %H:%M:%S\")\n",
    "end_time = datetime.datetime.strptime(\"2020-07-05 06:00:00\", \"%Y-%m-%d %H:%M:%S\")\n",
    "# Specify the product and product type \n",
    "product = \"2A-DPR\"    # 2A-PR\n",
    "product_type = \"RS\"   \n",
    "# Specify the version\n",
    "version = 7\n",
    "\n",
    "# Load the 2A-DPR dataset\n",
    "# - If scan_mode is not specified, it automatically load one! \n",
    "ds = gpm_api.open_dataset(\n",
    "    product=product,\n",
    "    product_type=product_type,\n",
    "    version=version,\n",
    "    start_time=start_time,\n",
    "    end_time=end_time,\n",
    ")\n",
    "ds\n",
    "\n",
    "isel_dict = {\"cross_track\": slice(0,49), \"along_track\": slice(884, 984)}\n",
    "ds_patch = ds.isel(isel_dict)"
   ]
  },
  {
   "cell_type": "markdown",
   "id": "e00266e5-91fd-41c2-b494-363119c296f6",
   "metadata": {},
   "source": [
    "# Load GPM DPR overpass of Hurricane Zeta"
   ]
  },
  {
   "cell_type": "code",
   "execution_count": 3,
   "id": "846adf54-ce81-486c-987a-7f9256211a03",
   "metadata": {},
   "outputs": [
    {
     "name": "stdout",
     "output_type": "stream",
     "text": [
      "'scan_mode' has not been specified. Default to FS.\n"
     ]
    }
   ],
   "source": [
    "# Define analysis time period\n",
    "start_time = datetime.datetime.strptime(\"2020-10-28 08:00:00\", \"%Y-%m-%d %H:%M:%S\")\n",
    "end_time = datetime.datetime.strptime(\"2020-10-28 09:00:00\", \"%Y-%m-%d %H:%M:%S\")\n",
    "\n",
    "# Define products to analyze\n",
    "product = \"2A-DPR\"    # 2A-PR\n",
    "product_type = \"RS\"  \n",
    "version = 7\n",
    "\n",
    "# Load the 2A-DPR dataset\n",
    "# - If scan_mode is not specified, it automatically load one! \n",
    "ds = gpm_api.open_dataset(\n",
    "    product=product,\n",
    "    product_type=product_type,\n",
    "    version=version,\n",
    "    start_time=start_time,\n",
    "    end_time=end_time,\n",
    ")\n",
    "ds\n",
    "\n",
    "bbox = [-94, -89, 22.5, 27.5]\n",
    "ds_patch = ds.gpm_api.crop(bbox)"
   ]
  },
  {
   "cell_type": "markdown",
   "id": "d4968da5-5f2e-48ee-aa7b-1f48086a6006",
   "metadata": {},
   "source": [
    "# Create PyVista objects"
   ]
  },
  {
   "cell_type": "code",
   "execution_count": 4,
   "id": "49af9533-bde5-4aed-9f03-3717dcc7a681",
   "metadata": {},
   "outputs": [],
   "source": [
    "# Retrieve pyvista surface and volume data objects\n",
    "radar_frequency=\"Ku\"\n",
    "da_2d = ds_patch[\"zFactorFinalNearSurface\"].sel(radar_frequency=radar_frequency).compute()\n",
    "surf = create_pyvista_2d_surface(da_2d, spacing=(1, 1, 1), origin=(0, 0, -3))\n",
    "\n",
    "da_3d = ds_patch[\"zFactorFinal\"].sel(radar_frequency=radar_frequency).compute()\n",
    "vol = create_pyvista_3d_volume(da_3d, spacing=(1, 1, 0.25), origin=(0, 0, 0))"
   ]
  },
  {
   "cell_type": "code",
   "execution_count": 5,
   "id": "594194be-36ac-4370-9371-2cdf13590c35",
   "metadata": {},
   "outputs": [],
   "source": [
    "# Define figure settings \n",
    "cmap=\"Spectral_r\"\n",
    "clim=[10, 50]"
   ]
  },
  {
   "cell_type": "markdown",
   "id": "21786411-c84d-4ad8-b232-c8e0a5e37986",
   "metadata": {},
   "source": [
    "# 2D Surface Map Visualization"
   ]
  },
  {
   "cell_type": "code",
   "execution_count": 6,
   "id": "6350f9b4-b954-413f-a625-a2f127f05cc9",
   "metadata": {},
   "outputs": [
    {
     "data": {
      "application/vnd.jupyter.widget-view+json": {
       "model_id": "3f23be5591c34ae9b41d56daa543c7f1",
       "version_major": 2,
       "version_minor": 0
      },
      "text/plain": [
       "Widget(value=\"<iframe src='http://localhost:45545/index.html?ui=P_0x7fd8d2dda3d0_0&reconnect=auto' style='widt…"
      ]
     },
     "metadata": {},
     "output_type": "display_data"
    }
   ],
   "source": [
    "# Display\n",
    "pl = pv.Plotter()\n",
    "pl.background_color = \"#2e2a2b\"\n",
    "pl.add_mesh(surf, opacity=1, cmap=cmap, clim=clim, show_scalar_bar=False)\n",
    "pl.show()"
   ]
  },
  {
   "cell_type": "markdown",
   "id": "326b3300-e325-4169-b13c-e194321d6e67",
   "metadata": {},
   "source": [
    "# 3D Isosurfaces Visualization"
   ]
  },
  {
   "cell_type": "code",
   "execution_count": 7,
   "id": "3e6c59e8-3bf7-464e-9cbe-906041595b85",
   "metadata": {},
   "outputs": [
    {
     "data": {
      "application/vnd.jupyter.widget-view+json": {
       "model_id": "12873f12d0cf4462b19123a2fb4b1954",
       "version_major": 2,
       "version_minor": 0
      },
      "text/plain": [
       "Widget(value=\"<iframe src='http://localhost:45545/index.html?ui=P_0x7fd8d2d5bf90_1&reconnect=auto' style='widt…"
      ]
     },
     "metadata": {},
     "output_type": "display_data"
    }
   ],
   "source": [
    "from gpm_api.visualization.plot_3d import add_3d_isosurfaces\n",
    "\n",
    "isovalues=[30, 40, 50]\n",
    "opacities=[0.3, 0.5, 1]\n",
    "method=\"contour\"\n",
    "\n",
    "# Display figure \n",
    "pl = pv.Plotter([1024*2, 1024*3], image_scale=3)\n",
    "pl.background_color = \"#2e2a2b\"\n",
    "pl.add_mesh(surf, opacity=1, cmap=cmap, clim=clim, show_scalar_bar=False, style=\"surface\")\n",
    "add_3d_isosurfaces(vol=vol, pl=pl, \n",
    "                   isovalues=isovalues,\n",
    "                   opacities=opacities,\n",
    "                   method=method,\n",
    "                   cmap=cmap,\n",
    "                   clim=clim,\n",
    "                   show_scalar_bar=False,\n",
    "                   add_sliders=True,\n",
    "                  )\n",
    "pl.show()"
   ]
  },
  {
   "cell_type": "code",
   "execution_count": 8,
   "id": "d8201e72-1de2-4b8d-b6dc-8a38eaa109c8",
   "metadata": {},
   "outputs": [
    {
     "data": {
      "application/vnd.jupyter.widget-view+json": {
       "model_id": "93df37539321464f8683f88455fe2d5d",
       "version_major": 2,
       "version_minor": 0
      },
      "text/plain": [
       "Widget(value=\"<iframe src='http://localhost:45545/index.html?ui=P_0x7fd8d34b0210_2&reconnect=auto' style='widt…"
      ]
     },
     "metadata": {},
     "output_type": "display_data"
    }
   ],
   "source": [
    "# Display figure \n",
    "pl = pv.Plotter([1024*2, 1024*3], image_scale=3)\n",
    "pl.background_color = \"#2e2a2b\"\n",
    "pl.add_mesh(surf, opacity=1, cmap=cmap, clim=clim, show_scalar_bar=False, style=\"surface\")\n",
    "add_3d_isosurfaces(vol=vol, pl=pl, \n",
    "                   isovalues=isovalues,\n",
    "                   opacities=opacities,\n",
    "                   method=method,\n",
    "                   cmap=cmap,\n",
    "                   clim=clim,\n",
    "                   show_scalar_bar=False,\n",
    "                   add_sliders=False,\n",
    "                  )\n",
    "pl.show()"
   ]
  },
  {
   "cell_type": "markdown",
   "id": "8cbbb8ab-3853-4fc0-9efe-0188cd1423a2",
   "metadata": {},
   "source": [
    "# 3D Isosurface Interactive Slider"
   ]
  },
  {
   "cell_type": "code",
   "execution_count": 9,
   "id": "6f9b5952-6431-471b-986a-21194a860769",
   "metadata": {},
   "outputs": [
    {
     "data": {
      "application/vnd.jupyter.widget-view+json": {
       "model_id": "50223e9abd664205be6e3974c51dd8e7",
       "version_major": 2,
       "version_minor": 0
      },
      "text/plain": [
       "Widget(value=\"<iframe src='http://localhost:45545/index.html?ui=P_0x7fd8d018ac50_3&reconnect=auto' style='widt…"
      ]
     },
     "metadata": {},
     "output_type": "display_data"
    }
   ],
   "source": [
    "import pyvista as pv\n",
    "from gpm_api.visualization.plot_3d import add_3d_isosurface_slider\n",
    "\n",
    "# Display figure \n",
    "pl = pv.Plotter([1024*2, 1024*3], image_scale=3)\n",
    "pl.background_color = \"#2e2a2b\"\n",
    "pl.add_mesh(surf, opacity=1, cmap=cmap, clim=clim, show_scalar_bar=False, style=\"surface\")\n",
    "add_3d_isosurface_slider(vol=vol, pl=pl, isovalue=30, opacity=1, cmap=cmap, clim=clim, show_scalar_bar=False, style=\"surface\")\n",
    "pl.show()"
   ]
  },
  {
   "cell_type": "markdown",
   "id": "bab9524e-08eb-4b27-92f6-d1df7c5d0094",
   "metadata": {},
   "source": [
    "# 3D Orthogonal Slices Visualization"
   ]
  },
  {
   "cell_type": "code",
   "execution_count": 10,
   "id": "f7aded1a-43d8-4542-b078-42e0550db698",
   "metadata": {},
   "outputs": [
    {
     "data": {
      "application/vnd.jupyter.widget-view+json": {
       "model_id": "1d9fd662b7574dfbb9b0fd59b768008a",
       "version_major": 2,
       "version_minor": 0
      },
      "text/plain": [
       "Widget(value=\"<iframe src='http://localhost:45545/index.html?ui=P_0x7fd8d2331190_4&reconnect=auto' style='widt…"
      ]
     },
     "metadata": {},
     "output_type": "display_data"
    }
   ],
   "source": [
    "from gpm_api.visualization.plot_3d import add_3d_orthogonal_slices\n",
    "\n",
    "pl = pv.Plotter([1024*3, 768*3], image_scale=3)\n",
    "pl.background_color = \"#2e2a2b\" \n",
    "add_3d_orthogonal_slices(vol=vol, pl=pl, x=22, y=20, z=1, add_sliders=True, clim=clim, cmap=cmap, show_scalar_bar=False)\n",
    "pl.add_scalar_bar(vertical=True, title=\"Reflectivity [dBZ]\", height=0.4, position_x=0.85)\n",
    "pl.show()"
   ]
  },
  {
   "cell_type": "markdown",
   "id": "45122849-7c6a-4c40-b8f1-0ce61f14b42c",
   "metadata": {},
   "source": [
    "# 3D Volume Single Plane Slicer "
   ]
  },
  {
   "cell_type": "code",
   "execution_count": 11,
   "id": "8d4c8f82-640d-482d-a754-052434893708",
   "metadata": {},
   "outputs": [
    {
     "data": {
      "application/vnd.jupyter.widget-view+json": {
       "model_id": "738802ad91ab465190f1f28f12f3729b",
       "version_major": 2,
       "version_minor": 0
      },
      "text/plain": [
       "Widget(value=\"<iframe src='http://localhost:45545/index.html?ui=P_0x7fd8d0171850_5&reconnect=auto' style='widt…"
      ]
     },
     "metadata": {},
     "output_type": "display_data"
    }
   ],
   "source": [
    "pl = pv.Plotter()\n",
    "pl.background_color = \"#2e2a2b\"\n",
    "pl.add_mesh(surf, clim=clim, cmap=cmap, show_scalar_bar=False)\n",
    "pl.add_volume_clip_plane(vol, normal='-x', cmap=cmap, clim=clim)\n",
    "pl.show()"
   ]
  },
  {
   "cell_type": "markdown",
   "id": "da91eabb-3924-4ad4-aa1d-559c89fa0622",
   "metadata": {},
   "source": [
    "# 3D Volume Vertical Slicer"
   ]
  },
  {
   "cell_type": "code",
   "execution_count": 12,
   "id": "5f46e0ae-058c-4ecf-bf7a-302b0dc1ffe1",
   "metadata": {},
   "outputs": [
    {
     "data": {
      "application/vnd.jupyter.widget-view+json": {
       "model_id": "2bc9f5e9ea9a4780ba2af31025875b61",
       "version_major": 2,
       "version_minor": 0
      },
      "text/plain": [
       "Widget(value=\"<iframe src='http://localhost:45545/index.html?ui=P_0x7fd8d01f4690_6&reconnect=auto' style='widt…"
      ]
     },
     "metadata": {},
     "output_type": "display_data"
    }
   ],
   "source": [
    "pl = pv.Plotter()\n",
    "pl.background_color = \"#2e2a2b\"\n",
    "pl.add_volume_clip_plane(vol, normal='-z', normal_rotation=False, cmap=cmap, clim=clim)\n",
    "pl.show()"
   ]
  },
  {
   "cell_type": "markdown",
   "id": "0d9e50f6-405e-4f3b-94bc-8fa58735bd06",
   "metadata": {},
   "source": [
    "# 3D Volume Orthogonal Slicer"
   ]
  },
  {
   "cell_type": "code",
   "execution_count": 13,
   "id": "ba2afabc-bd3a-4cc5-a529-3eeaa29eb542",
   "metadata": {},
   "outputs": [
    {
     "data": {
      "application/vnd.jupyter.widget-view+json": {
       "model_id": "fb051be4d3e341d494208693189b708d",
       "version_major": 2,
       "version_minor": 0
      },
      "text/plain": [
       "Widget(value=\"<iframe src='http://localhost:45545/index.html?ui=P_0x7fd8d0243750_7&reconnect=auto' style='widt…"
      ]
     },
     "metadata": {},
     "output_type": "display_data"
    }
   ],
   "source": [
    "pl = pv.Plotter()\n",
    "pl.background_color = \"#2e2a2b\"\n",
    "pl.add_mesh(surf, clim=clim, cmap=cmap, show_scalar_bar=False)\n",
    "pl.add_volume_clip_plane(\n",
    "    vol,\n",
    "    normal='-x',\n",
    "    interaction_event='always',\n",
    "    normal_rotation=False,\n",
    "    cmap=cmap, clim=clim,\n",
    "    show_scalar_bar=False,\n",
    ")\n",
    "pl.add_volume_clip_plane(\n",
    "    vol,\n",
    "    normal='-y',\n",
    "    interaction_event='always',\n",
    "    normal_rotation=False,\n",
    "    cmap=cmap, clim=clim,\n",
    "    show_scalar_bar=False,\n",
    ")\n",
    "pl.show()"
   ]
  },
  {
   "cell_type": "code",
   "execution_count": null,
   "id": "38907503-6e78-4347-b59b-499d23e012a4",
   "metadata": {},
   "outputs": [],
   "source": []
  }
 ],
 "metadata": {
  "kernelspec": {
   "display_name": "dev",
   "language": "python",
   "name": "dev"
  },
  "language_info": {
   "codemirror_mode": {
    "name": "ipython",
    "version": 3
   },
   "file_extension": ".py",
   "mimetype": "text/x-python",
   "name": "python",
   "nbconvert_exporter": "python",
   "pygments_lexer": "ipython3",
   "version": "3.11.4"
  }
 },
 "nbformat": 4,
 "nbformat_minor": 5
}
